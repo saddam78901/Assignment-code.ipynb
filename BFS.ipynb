{
 "cells": [
  {
   "cell_type": "markdown",
   "metadata": {},
   "source": [
    "##Breadth First Search(BFS)\n",
    "    \n",
    "    \n",
    "    graph = {'A': ['B', 'C', 'E'],\n",
    "             'B': ['A','D', 'E'],\n",
    "             'C': ['A', 'F', 'G'],\n",
    "             'D': ['B'],\n",
    "             'E': ['A', 'B','D'],\n",
    "             'F': ['C'],\n",
    "             'G': ['C']}\n",
    "             \n",
    "             \n",
    "    def bfs(graph, initial):\n",
    "        \n",
    "        visited = []\n",
    "        \n",
    "        queue = [initial]\n",
    "     \n",
    "        while queue:\n",
    "            \n",
    "            node = queue.pop(0)\n",
    "            if node not in visited:\n",
    "                \n",
    "                visited.append(node)\n",
    "                neighbours = graph[node]\n",
    "     \n",
    "                \n",
    "                for neighbour in neighbours:\n",
    "                    queue.append(neighbour):\n",
    "        return visited\n",
    "     \n",
    "    print(bfs(graph,'A'))"
   ]
  },
  {
   "cell_type": "code",
   "execution_count": null,
   "metadata": {},
   "outputs": [],
   "source": []
  },
  {
   "cell_type": "markdown",
   "metadata": {},
   "source": []
  }
 ],
 "metadata": {
  "kernelspec": {
   "display_name": "Python 3",
   "language": "python",
   "name": "python3"
  },
  "language_info": {
   "codemirror_mode": {
    "name": "ipython",
    "version": 3
   },
   "file_extension": ".py",
   "mimetype": "text/x-python",
   "name": "python",
   "nbconvert_exporter": "python",
   "pygments_lexer": "ipython3",
   "version": "3.7.3"
  }
 },
 "nbformat": 4,
 "nbformat_minor": 2
}
